{
 "cells": [
  {
   "cell_type": "code",
   "execution_count": 1,
   "metadata": {
    "collapsed": false,
    "deletable": true,
    "editable": true
   },
   "outputs": [
    {
     "ename": "WindowsError",
     "evalue": "[Error 3] The system cannot find the path specified: 'D:/BioTM/internshipfiles/comm_use.C-H.txt/*.*'",
     "output_type": "error",
     "traceback": [
      "\u001b[1;31m---------------------------------------------------------------------------\u001b[0m",
      "\u001b[1;31mWindowsError\u001b[0m                              Traceback (most recent call last)",
      "\u001b[1;32m<ipython-input-1-73d9dff528a2>\u001b[0m in \u001b[0;36m<module>\u001b[1;34m()\u001b[0m\n\u001b[0;32m      6\u001b[0m \u001b[1;33m\u001b[0m\u001b[0m\n\u001b[0;32m      7\u001b[0m \u001b[1;33m\u001b[0m\u001b[0m\n\u001b[1;32m----> 8\u001b[1;33m \u001b[0mfolders\u001b[0m \u001b[1;33m=\u001b[0m \u001b[0mos\u001b[0m\u001b[1;33m.\u001b[0m\u001b[0mlistdir\u001b[0m\u001b[1;33m(\u001b[0m\u001b[1;34m\"D:/BioTM/internshipfiles/comm_use.C-H.txt\"\u001b[0m\u001b[1;33m)\u001b[0m\u001b[1;33m\u001b[0m\u001b[0m\n\u001b[0m\u001b[0;32m      9\u001b[0m \u001b[1;32mclass\u001b[0m \u001b[0mpair\u001b[0m\u001b[1;33m:\u001b[0m\u001b[1;33m\u001b[0m\u001b[0m\n\u001b[0;32m     10\u001b[0m     \u001b[1;32mdef\u001b[0m \u001b[0m__init__\u001b[0m\u001b[1;33m(\u001b[0m\u001b[0mself\u001b[0m\u001b[1;33m)\u001b[0m\u001b[1;33m:\u001b[0m\u001b[1;33m\u001b[0m\u001b[0m\n",
      "\u001b[1;31mWindowsError\u001b[0m: [Error 3] The system cannot find the path specified: 'D:/BioTM/internshipfiles/comm_use.C-H.txt/*.*'"
     ]
    }
   ],
   "source": [
    "from glob import glob\n",
    "import re\n",
    "import os, sys\n",
    "import sqlite3\n",
    "import pickle\n",
    "\n",
    "\n",
    "folders = os.listdir(\"D:/BioTM/internshipfiles/comm_use.C-H.txt\")\n",
    "class pair:\n",
    "    def __init__(self):\n",
    "        self.pairs = {}\n",
    "        "
   ]
  },
  {
   "cell_type": "code",
   "execution_count": 1,
   "metadata": {
    "collapsed": false,
    "deletable": true,
    "editable": true
   },
   "outputs": [
    {
     "ename": "NameError",
     "evalue": "name 're' is not defined",
     "output_type": "error",
     "traceback": [
      "\u001b[1;31m---------------------------------------------------------------------------\u001b[0m",
      "\u001b[1;31mNameError\u001b[0m                                 Traceback (most recent call last)",
      "\u001b[1;32m<ipython-input-1-93cad6253b5d>\u001b[0m in \u001b[0;36m<module>\u001b[1;34m()\u001b[0m\n\u001b[1;32m----> 1\u001b[1;33m \u001b[0mget_ipython\u001b[0m\u001b[1;33m(\u001b[0m\u001b[1;33m)\u001b[0m\u001b[1;33m.\u001b[0m\u001b[0mrun_cell_magic\u001b[0m\u001b[1;33m(\u001b[0m\u001b[1;34mu'time'\u001b[0m\u001b[1;33m,\u001b[0m \u001b[1;34mu''\u001b[0m\u001b[1;33m,\u001b[0m \u001b[1;34mu'no_text_files = 0\\n\\npattern = r\"<PROTEIN>[A-Za-z0-9_  ]*</PROTEIN>\"\\npattern2 = r\"<DNA>[A-Za-z0-9_  ]*</DNA>\"\\npattern3 = r\"<RNA>[A-Za-z0-9_  ]*</RNA>\"\\npattern  = re.compile(pattern)\\npattern2  = re.compile(pattern2)\\npattern3 = re.compile(pattern3)\\n  \\nMain = {}\\ndna_frequency = {}\\n\\nfor folder in folders:\\n     file_path= \"D:/BioTM/internshipfiles/comm_use.C-H.txt/\" + folder\\n     files = glob(file_path+\"/*.txt.sgml\")\\n     \\n     for i in files:\\n          \\n          with open(i,\"r+\") as f:\\n               i = i.split(\\'\\\\\\\\\\')\\n               i = \\'/\\'.join(i)\\n               s = f.read()     \\n              \\n               result = pattern.findall(s)\\n               result_dna = pattern2.findall(s)\\n               result_rna = pattern3.findall(s)\\n                \\n               \\n               l = len(result_rna)\\n               \\n               for i in range(l):\\n                  j=0\\n                  \\n                  n1 = result_rna[i][9:-10]\\n                  n1 = n1.strip()\\n                  if len(n1)==0:\\n                    continue\\n                  if n1 not in dna_frequency:\\n                    dna_frequency[n1]=1\\n                  else:\\n                    dna_frequency[n1]+=1\\n                    \\n                  try:\\n                    a = Main[n1]\\n                  except:\\n                    Main[n1] = pair()\\n                  \\n                  while(j<l):\\n                        \\n                        n2 = result_rna[j][9:-10]\\n                        n2 = n2.strip()\\n                        j+=1\\n                        if len(n2)==0:\\n                            continue\\n                        \\n                        if n1!=n2:\\n                            \\n                            if n2 not in Main[n1].pairs.keys():\\n                                Main[n1].pairs[n2]=1\\n                            else:\\n                                Main[n1].pairs[n2]+=1\\n                        j+=1\\n                           \\n                  i+=1  \\n               \\n               no_text_files+=1\\n        \\nprint no_text_files\\n\\nimport pickle\\nprotein_frequency ={}\\npickleobj = open(\"MainProteinR\",\"wb+\")\\npickle.dump(Main,pickleobj)  #pickled prteinset\\npickleobj.close()\\n\\npickleobj = open(\"NameRNA\",\"wb+\")\\npickle.dump(dna_frequency,pickleobj)  #pickled prteinset\\npickleobj.close()'\u001b[0m\u001b[1;33m)\u001b[0m\u001b[1;33m\u001b[0m\u001b[0m\n\u001b[0m",
      "\u001b[1;32mc:\\python27\\lib\\site-packages\\IPython\\core\\interactiveshell.pyc\u001b[0m in \u001b[0;36mrun_cell_magic\u001b[1;34m(self, magic_name, line, cell)\u001b[0m\n\u001b[0;32m   2113\u001b[0m             \u001b[0mmagic_arg_s\u001b[0m \u001b[1;33m=\u001b[0m \u001b[0mself\u001b[0m\u001b[1;33m.\u001b[0m\u001b[0mvar_expand\u001b[0m\u001b[1;33m(\u001b[0m\u001b[0mline\u001b[0m\u001b[1;33m,\u001b[0m \u001b[0mstack_depth\u001b[0m\u001b[1;33m)\u001b[0m\u001b[1;33m\u001b[0m\u001b[0m\n\u001b[0;32m   2114\u001b[0m             \u001b[1;32mwith\u001b[0m \u001b[0mself\u001b[0m\u001b[1;33m.\u001b[0m\u001b[0mbuiltin_trap\u001b[0m\u001b[1;33m:\u001b[0m\u001b[1;33m\u001b[0m\u001b[0m\n\u001b[1;32m-> 2115\u001b[1;33m                 \u001b[0mresult\u001b[0m \u001b[1;33m=\u001b[0m \u001b[0mfn\u001b[0m\u001b[1;33m(\u001b[0m\u001b[0mmagic_arg_s\u001b[0m\u001b[1;33m,\u001b[0m \u001b[0mcell\u001b[0m\u001b[1;33m)\u001b[0m\u001b[1;33m\u001b[0m\u001b[0m\n\u001b[0m\u001b[0;32m   2116\u001b[0m             \u001b[1;32mreturn\u001b[0m \u001b[0mresult\u001b[0m\u001b[1;33m\u001b[0m\u001b[0m\n\u001b[0;32m   2117\u001b[0m \u001b[1;33m\u001b[0m\u001b[0m\n",
      "\u001b[1;32m<decorator-gen-60>\u001b[0m in \u001b[0;36mtime\u001b[1;34m(self, line, cell, local_ns)\u001b[0m\n",
      "\u001b[1;32mc:\\python27\\lib\\site-packages\\IPython\\core\\magic.pyc\u001b[0m in \u001b[0;36m<lambda>\u001b[1;34m(f, *a, **k)\u001b[0m\n\u001b[0;32m    186\u001b[0m     \u001b[1;31m# but it's overkill for just that one bit of state.\u001b[0m\u001b[1;33m\u001b[0m\u001b[1;33m\u001b[0m\u001b[0m\n\u001b[0;32m    187\u001b[0m     \u001b[1;32mdef\u001b[0m \u001b[0mmagic_deco\u001b[0m\u001b[1;33m(\u001b[0m\u001b[0marg\u001b[0m\u001b[1;33m)\u001b[0m\u001b[1;33m:\u001b[0m\u001b[1;33m\u001b[0m\u001b[0m\n\u001b[1;32m--> 188\u001b[1;33m         \u001b[0mcall\u001b[0m \u001b[1;33m=\u001b[0m \u001b[1;32mlambda\u001b[0m \u001b[0mf\u001b[0m\u001b[1;33m,\u001b[0m \u001b[1;33m*\u001b[0m\u001b[0ma\u001b[0m\u001b[1;33m,\u001b[0m \u001b[1;33m**\u001b[0m\u001b[0mk\u001b[0m\u001b[1;33m:\u001b[0m \u001b[0mf\u001b[0m\u001b[1;33m(\u001b[0m\u001b[1;33m*\u001b[0m\u001b[0ma\u001b[0m\u001b[1;33m,\u001b[0m \u001b[1;33m**\u001b[0m\u001b[0mk\u001b[0m\u001b[1;33m)\u001b[0m\u001b[1;33m\u001b[0m\u001b[0m\n\u001b[0m\u001b[0;32m    189\u001b[0m \u001b[1;33m\u001b[0m\u001b[0m\n\u001b[0;32m    190\u001b[0m         \u001b[1;32mif\u001b[0m \u001b[0mcallable\u001b[0m\u001b[1;33m(\u001b[0m\u001b[0marg\u001b[0m\u001b[1;33m)\u001b[0m\u001b[1;33m:\u001b[0m\u001b[1;33m\u001b[0m\u001b[0m\n",
      "\u001b[1;32mc:\\python27\\lib\\site-packages\\IPython\\core\\magics\\execution.pyc\u001b[0m in \u001b[0;36mtime\u001b[1;34m(self, line, cell, local_ns)\u001b[0m\n\u001b[0;32m   1183\u001b[0m         \u001b[1;32melse\u001b[0m\u001b[1;33m:\u001b[0m\u001b[1;33m\u001b[0m\u001b[0m\n\u001b[0;32m   1184\u001b[0m             \u001b[0mst\u001b[0m \u001b[1;33m=\u001b[0m \u001b[0mclock2\u001b[0m\u001b[1;33m(\u001b[0m\u001b[1;33m)\u001b[0m\u001b[1;33m\u001b[0m\u001b[0m\n\u001b[1;32m-> 1185\u001b[1;33m             \u001b[1;32mexec\u001b[0m\u001b[1;33m(\u001b[0m\u001b[0mcode\u001b[0m\u001b[1;33m,\u001b[0m \u001b[0mglob\u001b[0m\u001b[1;33m,\u001b[0m \u001b[0mlocal_ns\u001b[0m\u001b[1;33m)\u001b[0m\u001b[1;33m\u001b[0m\u001b[0m\n\u001b[0m\u001b[0;32m   1186\u001b[0m             \u001b[0mend\u001b[0m \u001b[1;33m=\u001b[0m \u001b[0mclock2\u001b[0m\u001b[1;33m(\u001b[0m\u001b[1;33m)\u001b[0m\u001b[1;33m\u001b[0m\u001b[0m\n\u001b[0;32m   1187\u001b[0m             \u001b[0mout\u001b[0m \u001b[1;33m=\u001b[0m \u001b[0mNone\u001b[0m\u001b[1;33m\u001b[0m\u001b[0m\n",
      "\u001b[1;32m<timed exec>\u001b[0m in \u001b[0;36m<module>\u001b[1;34m()\u001b[0m\n",
      "\u001b[1;31mNameError\u001b[0m: name 're' is not defined"
     ]
    }
   ],
   "source": [
    "%%time\n",
    "no_text_files = 0\n",
    "\n",
    "pattern = r\"<PROTEIN>[A-Za-z0-9_  ]*</PROTEIN>\"\n",
    "pattern2 = r\"<DNA>[A-Za-z0-9_  ]*</DNA>\"\n",
    "pattern3 = r\"<RNA>[A-Za-z0-9_  ]*</RNA>\"\n",
    "pattern  = re.compile(pattern)\n",
    "pattern2  = re.compile(pattern2)\n",
    "pattern3 = re.compile(pattern3)\n",
    "  \n",
    "Main = {}\n",
    "dna_frequency = {}\n",
    "\n",
    "for folder in folders:\n",
    "     file_path= \"D:/BioTM/internshipfiles/comm_use.C-H.txt/\" + folder\n",
    "     files = glob(file_path+\"/*.txt.sgml\")\n",
    "     \n",
    "     for i in files:\n",
    "          \n",
    "          with open(i,\"r+\") as f:\n",
    "               i = i.split('\\\\')\n",
    "               i = '/'.join(i)\n",
    "               s = f.read()     \n",
    "              \n",
    "               result = pattern.findall(s)\n",
    "               result_dna = pattern2.findall(s)\n",
    "               result_rna = pattern3.findall(s)\n",
    "                \n",
    "               \n",
    "               l = len(result_rna)\n",
    "               \n",
    "               for i in range(l):\n",
    "                  j=0\n",
    "                  \n",
    "                  n1 = result_rna[i][9:-10]\n",
    "                  n1 = n1.strip()\n",
    "                  if len(n1)==0:\n",
    "                    continue\n",
    "                  if n1 not in dna_frequency:\n",
    "                    dna_frequency[n1]=1\n",
    "                  else:\n",
    "                    dna_frequency[n1]+=1\n",
    "                    \n",
    "                  try:\n",
    "                    a = Main[n1]\n",
    "                  except:\n",
    "                    Main[n1] = pair()\n",
    "                  \n",
    "                  while(j<l):\n",
    "                        \n",
    "                        n2 = result_rna[j][9:-10]\n",
    "                        n2 = n2.strip()\n",
    "                        j+=1\n",
    "                        if len(n2)==0:\n",
    "                            continue\n",
    "                        \n",
    "                        if n1!=n2:\n",
    "                            \n",
    "                            if n2 not in Main[n1].pairs.keys():\n",
    "                                Main[n1].pairs[n2]=1\n",
    "                            else:\n",
    "                                Main[n1].pairs[n2]+=1\n",
    "                        j+=1\n",
    "                           \n",
    "                  i+=1  \n",
    "               \n",
    "               no_text_files+=1\n",
    "        \n",
    "print no_text_files\n",
    "\n",
    "import pickle\n",
    "protein_frequency ={}\n",
    "pickleobj = open(\"MainProteinR\",\"wb+\")\n",
    "pickle.dump(Main,pickleobj)  #pickled prteinset\n",
    "pickleobj.close()\n",
    "\n",
    "pickleobj = open(\"NameRNA\",\"wb+\")\n",
    "pickle.dump(dna_frequency,pickleobj)  #pickled prteinset\n",
    "pickleobj.close()\n"
   ]
  },
  {
   "cell_type": "code",
   "execution_count": 17,
   "metadata": {
    "collapsed": false,
    "deletable": true,
    "editable": true
   },
   "outputs": [
    {
     "name": "stdout",
     "output_type": "stream",
     "text": [
      "24332\n",
      "Wall time: 11.7 s\n"
     ]
    }
   ],
   "source": [
    "%%time\n",
    "from __future__ import division\n",
    "import pickle\n",
    "\n",
    "class pair:\n",
    "    def __init__(self):\n",
    "        self.pairs = {}\n",
    "        \n",
    "p = open(\"Nameprotein\",\"r+\")\n",
    "protein_frequency = pickle.load(p)\n",
    "p.close()\n",
    "\n",
    "p = open(\"MainProtein\",\"r+\")\n",
    "Main = pickle.load(p)\n",
    "p.close()\n",
    "\n",
    "\n",
    "print len(protein_frequency)\n",
    "graph_protein_frequency = {}"
   ]
  },
  {
   "cell_type": "code",
   "execution_count": 16,
   "metadata": {
    "collapsed": false,
    "deletable": true,
    "editable": true
   },
   "outputs": [
    {
     "name": "stdout",
     "output_type": "stream",
     "text": [
      "Wall time: 257 ms\n"
     ]
    }
   ],
   "source": [
    "%%time\n",
    "for i,j in Main.iteritems():\n",
    "    for l,m in j.pairs.iteritems():\n",
    "        print i,l,m/(protein_frequency[i]*protein_frequency[l])\n",
    "        \n",
    "        "
   ]
  },
  {
   "cell_type": "code",
   "execution_count": 9,
   "metadata": {
    "collapsed": false,
    "deletable": true,
    "editable": true
   },
   "outputs": [
    {
     "data": {
      "image/png": "[encoded data removed]",
      "text/plain": [
       "<matplotlib.figure.Figure at 0x3e189d0>"
      ]
     },
     "metadata": {},
     "output_type": "display_data"
    },
    {
     "name": "stdout",
     "output_type": "stream",
     "text": [
      "Wall time: 216 ms\n"
     ]
    }
   ],
   "source": [
    "%%time\n",
    "x=[]\n",
    "y=[]\n",
    "other=0\n",
    "for i,j in protein_frequency.iteritems():\n",
    "    \n",
    "     if (j>100):\n",
    "         x.append(i)\n",
    "         y.append(j)\n",
    "     else:\n",
    "        other+=1\n",
    "        \n",
    "x.append(\"others\")\n",
    "y.append(other)\n",
    "\n",
    "import matplotlib.pyplot as plt\n",
    "\n",
    "plt.title('Frequency distributions of Entity Names VS frequency of Mentions')\n",
    "plt.barh(range(len(y)), y, align='center')\n",
    "plt.yticks(range(len(y)), x, size='small')\n",
    "plt.show()"
   ]
  },
  {
   "cell_type": "code",
   "execution_count": 20,
   "metadata": {
    "collapsed": false,
    "deletable": true,
    "editable": true
   },
   "outputs": [
    {
     "name": "stdout",
     "output_type": "stream",
     "text": [
      "semi-completed\n",
      "completed\n",
      "614700\n"
     ]
    }
   ],
   "source": [
    "\n",
    "\n",
    "png = open(\"plotNew.dot\",\"w+\")\n",
    "png.write(\"graph{\\n\")\n",
    "\n",
    "for i,j in protein_frequency.iteritems():\n",
    "       if len(i)<25:\n",
    "            if j>300:\n",
    "                \n",
    "                st = \"\\\"%s\\\"[shape=circle]\\n\"%(i)\n",
    "            elif(j<30):\n",
    "                continue\n",
    "            else:\n",
    "                st = \"\\\"%s\\\"[shape=point]\\n\"%(i)\n",
    "            png.write(st)\n",
    "        \n",
    "            \n",
    "\n",
    "print 'semi-completed'\n",
    "\n",
    "\n",
    "oo=0\n",
    "for i,j in Main.iteritems():\n",
    "    if len(i.strip())!=0:\n",
    "        for l,m in j.pairs.iteritems():\n",
    "              if len(l.strip())!=0:\n",
    " \n",
    "                    #if(protein_frequency[i]>10 and protein_frequency[l]>10):\n",
    "                    if(protein_frequency>30):\n",
    "                        p = m/(protein_frequency[i]*protein_frequency[l])\n",
    "                        \n",
    "                        oo+=1\n",
    "                        if p>=0.9:\n",
    "                            st = \"\\\"%s\\\"--\\\"%s\\\"[label=\\\"%.2f\\\",weight=\\\"%.2f\\\"]\\n\"%(i,l,p,p)\n",
    "                           #print st\n",
    "                            png.write(st)\n",
    "\n",
    "\n",
    "png.write(\"}\")\n",
    "png.close()\n",
    "print 'completed'\n",
    "print oo        "
   ]
  },
  {
   "cell_type": "code",
   "execution_count": 40,
   "metadata": {
    "collapsed": false,
    "deletable": true,
    "editable": true
   },
   "outputs": [
    {
     "data": {
      "text/plain": [
       "'ab'"
      ]
     },
     "execution_count": 40,
     "metadata": {},
     "output_type": "execute_result"
    }
   ],
   "source": [
    "d = \"abc\"\n",
    "d[:-1]"
   ]
  },
  {
   "cell_type": "code",
   "execution_count": 54,
   "metadata": {
    "collapsed": true,
    "deletable": true,
    "editable": true
   },
   "outputs": [],
   "source": [
    "import pickle\n",
    "p = open(\"MainProteinD\",\"r\")\n",
    "Main = pickle.load(p)\n",
    "p.close()\n",
    "\n",
    "p = open(\"NameDNA\",\"r\")\n",
    "dna_frequency = pickle.load(p)\n",
    "p.close()"
   ]
  },
  {
   "cell_type": "code",
   "execution_count": 61,
   "metadata": {
    "collapsed": false,
    "deletable": true,
    "editable": true
   },
   "outputs": [
    {
     "name": "stdout",
     "output_type": "stream",
     "text": [
      "16\n",
      "Wall time: 14 ms\n"
     ]
    }
   ],
   "source": [
    "%%time\n",
    "from __future__ import division\n",
    "\n",
    "\n",
    "png = open(\"plotD.dot\",\"w+\")\n",
    "png.write(\"graph{\\n\")\n",
    "oo=0\n",
    "for i,j in Main.iteritems():\n",
    "    for l,m in j.pairs.iteritems():\n",
    "            \n",
    "        if(dna_frequency[i]>5 and dna_frequency[l]>5):\n",
    "            p = m/(dna_frequency[i]*dna_frequency[l])\n",
    "            if p>0.1:\n",
    "                oo+=1\n",
    "                \n",
    "                st = '%s--%s[label=\"%f\",weight=\"%f\"]\\n'%(i[:-1],l[1:],p,p)\n",
    "                #print st\n",
    "                png.write(st)\n",
    "            \n",
    "png.write(\"}\")\n",
    "png.close()\n",
    "print oo"
   ]
  },
  {
   "cell_type": "code",
   "execution_count": 69,
   "metadata": {
    "collapsed": false,
    "deletable": true,
    "editable": true
   },
   "outputs": [
    {
     "name": "stdout",
     "output_type": "stream",
     "text": [
      "{}\n"
     ]
    }
   ],
   "source": [
    "import pickle\n",
    "p = open(\"MainProteinR\",\"r\")\n",
    "Main = pickle.load(p)\n",
    "p.close()\n",
    "\n",
    "p = open(\"NameRNA\",\"r\")\n",
    "rna_frequency = pickle.load(p)\n",
    "p.close()\n",
    "\n"
   ]
  },
  {
   "cell_type": "code",
   "execution_count": 68,
   "metadata": {
    "collapsed": false,
    "deletable": true,
    "editable": true
   },
   "outputs": [
    {
     "ename": "KeyError",
     "evalue": "'m'",
     "output_type": "error",
     "traceback": [
      "\u001b[1;31m---------------------------------------------------------------------------\u001b[0m",
      "\u001b[1;31mKeyError\u001b[0m                                  Traceback (most recent call last)",
      "\u001b[1;32m<ipython-input-68-5f60a2c167d4>\u001b[0m in \u001b[0;36m<module>\u001b[1;34m()\u001b[0m\n\u001b[1;32m----> 1\u001b[1;33m \u001b[0mget_ipython\u001b[0m\u001b[1;33m(\u001b[0m\u001b[1;33m)\u001b[0m\u001b[1;33m.\u001b[0m\u001b[0mrun_cell_magic\u001b[0m\u001b[1;33m(\u001b[0m\u001b[1;34mu'time'\u001b[0m\u001b[1;33m,\u001b[0m \u001b[1;34mu''\u001b[0m\u001b[1;33m,\u001b[0m \u001b[1;34mu'from __future__ import division\\n\\n\\npng = open(\"plotR.dot\",\"w+\")\\npng.write(\"graph{\\\\n\")\\noo=0\\nfor i,j in Main.iteritems():\\n\\n    for l,k in j.pairs.iteritems():\\n            \\n        if(dna_frequency[i]>5 and dna_frequency[l]>5):\\n            p = k/(dna_frequency[i]*dna_frequency[l])\\n            if p>0.1:\\n                oo+=1\\n                st = \\'%s--%s[label=\"%f\",weight=\"%f\"]\\\\n\\'%(i[:-1],l[1:],p,p)\\n                #print st\\n                png.write(st)\\n            \\npng.write(\"}\")\\npng.close()\\nprint oo'\u001b[0m\u001b[1;33m)\u001b[0m\u001b[1;33m\u001b[0m\u001b[0m\n\u001b[0m",
      "\u001b[1;32mc:\\python27\\lib\\site-packages\\IPython\\core\\interactiveshell.pyc\u001b[0m in \u001b[0;36mrun_cell_magic\u001b[1;34m(self, magic_name, line, cell)\u001b[0m\n\u001b[0;32m   2113\u001b[0m             \u001b[0mmagic_arg_s\u001b[0m \u001b[1;33m=\u001b[0m \u001b[0mself\u001b[0m\u001b[1;33m.\u001b[0m\u001b[0mvar_expand\u001b[0m\u001b[1;33m(\u001b[0m\u001b[0mline\u001b[0m\u001b[1;33m,\u001b[0m \u001b[0mstack_depth\u001b[0m\u001b[1;33m)\u001b[0m\u001b[1;33m\u001b[0m\u001b[0m\n\u001b[0;32m   2114\u001b[0m             \u001b[1;32mwith\u001b[0m \u001b[0mself\u001b[0m\u001b[1;33m.\u001b[0m\u001b[0mbuiltin_trap\u001b[0m\u001b[1;33m:\u001b[0m\u001b[1;33m\u001b[0m\u001b[0m\n\u001b[1;32m-> 2115\u001b[1;33m                 \u001b[0mresult\u001b[0m \u001b[1;33m=\u001b[0m \u001b[0mfn\u001b[0m\u001b[1;33m(\u001b[0m\u001b[0mmagic_arg_s\u001b[0m\u001b[1;33m,\u001b[0m \u001b[0mcell\u001b[0m\u001b[1;33m)\u001b[0m\u001b[1;33m\u001b[0m\u001b[0m\n\u001b[0m\u001b[0;32m   2116\u001b[0m             \u001b[1;32mreturn\u001b[0m \u001b[0mresult\u001b[0m\u001b[1;33m\u001b[0m\u001b[0m\n\u001b[0;32m   2117\u001b[0m \u001b[1;33m\u001b[0m\u001b[0m\n",
      "\u001b[1;32m<decorator-gen-60>\u001b[0m in \u001b[0;36mtime\u001b[1;34m(self, line, cell, local_ns)\u001b[0m\n",
      "\u001b[1;32mc:\\python27\\lib\\site-packages\\IPython\\core\\magic.pyc\u001b[0m in \u001b[0;36m<lambda>\u001b[1;34m(f, *a, **k)\u001b[0m\n\u001b[0;32m    186\u001b[0m     \u001b[1;31m# but it's overkill for just that one bit of state.\u001b[0m\u001b[1;33m\u001b[0m\u001b[1;33m\u001b[0m\u001b[0m\n\u001b[0;32m    187\u001b[0m     \u001b[1;32mdef\u001b[0m \u001b[0mmagic_deco\u001b[0m\u001b[1;33m(\u001b[0m\u001b[0marg\u001b[0m\u001b[1;33m)\u001b[0m\u001b[1;33m:\u001b[0m\u001b[1;33m\u001b[0m\u001b[0m\n\u001b[1;32m--> 188\u001b[1;33m         \u001b[0mcall\u001b[0m \u001b[1;33m=\u001b[0m \u001b[1;32mlambda\u001b[0m \u001b[0mf\u001b[0m\u001b[1;33m,\u001b[0m \u001b[1;33m*\u001b[0m\u001b[0ma\u001b[0m\u001b[1;33m,\u001b[0m \u001b[1;33m**\u001b[0m\u001b[0mk\u001b[0m\u001b[1;33m:\u001b[0m \u001b[0mf\u001b[0m\u001b[1;33m(\u001b[0m\u001b[1;33m*\u001b[0m\u001b[0ma\u001b[0m\u001b[1;33m,\u001b[0m \u001b[1;33m**\u001b[0m\u001b[0mk\u001b[0m\u001b[1;33m)\u001b[0m\u001b[1;33m\u001b[0m\u001b[0m\n\u001b[0m\u001b[0;32m    189\u001b[0m \u001b[1;33m\u001b[0m\u001b[0m\n\u001b[0;32m    190\u001b[0m         \u001b[1;32mif\u001b[0m \u001b[0mcallable\u001b[0m\u001b[1;33m(\u001b[0m\u001b[0marg\u001b[0m\u001b[1;33m)\u001b[0m\u001b[1;33m:\u001b[0m\u001b[1;33m\u001b[0m\u001b[0m\n",
      "\u001b[1;32mc:\\python27\\lib\\site-packages\\IPython\\core\\magics\\execution.pyc\u001b[0m in \u001b[0;36mtime\u001b[1;34m(self, line, cell, local_ns)\u001b[0m\n\u001b[0;32m   1183\u001b[0m         \u001b[1;32melse\u001b[0m\u001b[1;33m:\u001b[0m\u001b[1;33m\u001b[0m\u001b[0m\n\u001b[0;32m   1184\u001b[0m             \u001b[0mst\u001b[0m \u001b[1;33m=\u001b[0m \u001b[0mclock2\u001b[0m\u001b[1;33m(\u001b[0m\u001b[1;33m)\u001b[0m\u001b[1;33m\u001b[0m\u001b[0m\n\u001b[1;32m-> 1185\u001b[1;33m             \u001b[1;32mexec\u001b[0m\u001b[1;33m(\u001b[0m\u001b[0mcode\u001b[0m\u001b[1;33m,\u001b[0m \u001b[0mglob\u001b[0m\u001b[1;33m,\u001b[0m \u001b[0mlocal_ns\u001b[0m\u001b[1;33m)\u001b[0m\u001b[1;33m\u001b[0m\u001b[0m\n\u001b[0m\u001b[0;32m   1186\u001b[0m             \u001b[0mend\u001b[0m \u001b[1;33m=\u001b[0m \u001b[0mclock2\u001b[0m\u001b[1;33m(\u001b[0m\u001b[1;33m)\u001b[0m\u001b[1;33m\u001b[0m\u001b[0m\n\u001b[0;32m   1187\u001b[0m             \u001b[0mout\u001b[0m \u001b[1;33m=\u001b[0m \u001b[0mNone\u001b[0m\u001b[1;33m\u001b[0m\u001b[0m\n",
      "\u001b[1;32m<timed exec>\u001b[0m in \u001b[0;36m<module>\u001b[1;34m()\u001b[0m\n",
      "\u001b[1;31mKeyError\u001b[0m: 'm'"
     ]
    }
   ],
   "source": [
    "%%time\n",
    "from __future__ import division\n",
    "\n",
    "\n",
    "png = open(\"plotR.dot\",\"w+\")\n",
    "png.write(\"graph{\\n\")\n",
    "oo=0\n",
    "for i,j in Main.iteritems():\n",
    "    \n",
    "    for l,k in j.pairs.iteritems():\n",
    "            \n",
    "        if(dna_frequency[i]>5 and dna_frequency[l]>5):\n",
    "            p = k/(dna_frequency[i]*dna_frequency[l])\n",
    "            if p>0.1:\n",
    "                oo+=1\n",
    "                st = '%s--%s[label=\"%f\",weight=\"%f\"]\\n'%(i[:-1],l[1:],p,p)\n",
    "                #print st\n",
    "                png.write(st)\n",
    "            \n",
    "png.write(\"}\")\n",
    "png.close()\n",
    "print oo"
   ]
  },
  {
   "cell_type": "code",
   "execution_count": null,
   "metadata": {
    "collapsed": true,
    "deletable": true,
    "editable": true
   },
   "outputs": [],
   "source": []
  }
 ],
 "metadata": {
  "kernelspec": {
   "display_name": "Python 2",
   "language": "python",
   "name": "python2"
  },
  "language_info": {
   "codemirror_mode": {
    "name": "ipython",
    "version": 2
   },
   "file_extension": ".py",
   "mimetype": "text/x-python",
   "name": "python",
   "nbconvert_exporter": "python",
   "pygments_lexer": "ipython2",
   "version": "2.7.13"
  }
 },
 "nbformat": 4,
 "nbformat_minor": 2
}
